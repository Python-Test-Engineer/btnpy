{
 "cells": [
  {
   "cell_type": "markdown",
   "id": "514b9aab",
   "metadata": {},
   "source": [
    "<img src=\"./ESSENCE.png\" width=700px>"
   ]
  },
  {
   "cell_type": "markdown",
   "id": "73f4d7b7-40bf-43b9-a626-2a11d5529ac8",
   "metadata": {},
   "source": [
    "### Reflection pattern\n",
    "\n",
    "## input -> function(input) -> output -> function(output) -> output2\n",
    "\n",
    "<img src=\"./INPUT_OUTPUT.png\" width=700px>\n",
    "\n",
    "\n"
   ]
  },
  {
   "cell_type": "markdown",
   "id": "874e847f",
   "metadata": {},
   "source": [
    "## Agent One is a code expert. Agent Two is an expert code reviewer.\n",
    "\n",
    "We generate a response with our first query using a system prompt to create code.\n",
    "\n",
    "We then pass the output into another function that acts as a reviewer to produce the next version of the code.\n",
    "\n",
    "This can be repeated until we reach certain criteria or MAX_ITERATIONS, whichever comes first.\n",
    "\n",
    "Each query is as if it was the first query with more information contained within it as each request is stateless."
   ]
  },
  {
   "cell_type": "code",
   "execution_count": 1,
   "id": "96731d2f-a079-4e41-9756-220f02d4ebd8",
   "metadata": {},
   "outputs": [],
   "source": [
    "import os\n",
    "from openai import OpenAI\n",
    "from dotenv import load_dotenv\n",
    "from IPython.display import display_markdown"
   ]
  },
  {
   "cell_type": "code",
   "execution_count": 2,
   "id": "9729eaf7",
   "metadata": {},
   "outputs": [],
   "source": [
    "client = OpenAI()\n",
    "MODEL = \"gpt-4o-mini\""
   ]
  },
  {
   "cell_type": "code",
   "execution_count": 3,
   "id": "ed931fde",
   "metadata": {},
   "outputs": [
    {
     "name": "stdout",
     "output_type": "stream",
     "text": [
      "OpenAI API Key exists and begins sk-proj-TVyeca...\n"
     ]
    }
   ],
   "source": [
    "# Load environment variables in a file called .env\n",
    "# Print the key prefixes to help with any debugging\n",
    "\n",
    "load_dotenv()\n",
    "openai_api_key = os.getenv(\"OPENAI_API_KEY\")\n",
    "\n",
    "if openai_api_key:\n",
    "    print(f\"OpenAI API Key exists and begins {openai_api_key[:14]}...\")\n",
    "else:\n",
    "    print(\"OpenAI API Key not set\")"
   ]
  },
  {
   "cell_type": "markdown",
   "id": "e644a635-e035-44e2-8c25-cee0f2b56556",
   "metadata": {},
   "source": [
    "We will start the **\"generation\"** chat history with the system prompt, as we said before. In this case, let the LLM act like a Python\n",
    "programmer eager to receive feedback / critique by the user.\n"
   ]
  },
  {
   "cell_type": "code",
   "execution_count": 4,
   "id": "12467256-c741-495a-9923-439c1fcf270d",
   "metadata": {},
   "outputs": [],
   "source": [
    "content = \"\"\"\n",
    "You are a Python programmer tasked with generating high quality Python code. Your task is to Generate the best content possible for the user's request. If the user requests critique, respond with a revised version of your previous attempt.\n",
    "\"\"\"\n",
    "\n",
    "generation_chat_history = [{\"role\": \"system\", \"content\": content}]"
   ]
  },
  {
   "cell_type": "markdown",
   "id": "43149b4f-54db-455f-9d39-6ad2f5c52b94",
   "metadata": {},
   "source": [
    "Now, as the user, we are going to ask the LLM to generate an implementation of the Requests library\n"
   ]
  },
  {
   "cell_type": "code",
   "execution_count": 5,
   "id": "0742e7bd-4857-4ed1-a96b-37098d448bdd",
   "metadata": {},
   "outputs": [],
   "source": [
    "generation_chat_history.append(\n",
    "    {\n",
    "        \"role\": \"user\",\n",
    "        \"content\": \"Generate a Python implementation of requesting an API with the Requests library\",\n",
    "    }\n",
    ")"
   ]
  },
  {
   "cell_type": "markdown",
   "id": "4df1bffe-375f-4a9a-8433-e217eb94aea2",
   "metadata": {},
   "source": [
    "Let's generate the first version of the essay.\n"
   ]
  },
  {
   "cell_type": "code",
   "execution_count": 6,
   "id": "ff984277-733c-4495-b7fd-0669393380b8",
   "metadata": {},
   "outputs": [],
   "source": [
    "user_code = (\n",
    "    client.chat.completions.create(messages=generation_chat_history, model=MODEL)\n",
    "    .choices[0]\n",
    "    .message.content\n",
    ")\n",
    "\n",
    "\n",
    "generation_chat_history.append({\"role\": \"assistant\", \"content\": user_code})"
   ]
  },
  {
   "cell_type": "code",
   "execution_count": 7,
   "id": "c03f208b-2234-4fd1-a02b-f4fff06c01a6",
   "metadata": {},
   "outputs": [
    {
     "data": {
      "text/markdown": [
       "Certainly! Below is a simple yet comprehensive implementation of making a GET request to an API using the `requests` library in Python. This example demonstrates how to make the request, handle potential errors, and print out the response.\n",
       "\n",
       "```python\n",
       "import requests\n",
       "\n",
       "def fetch_data_from_api(url):\n",
       "    \"\"\"\n",
       "    Fetch data from the specified API URL.\n",
       "\n",
       "    :param url: The API endpoint URL to request data from.\n",
       "    :return: JSON response if the request was successful, None otherwise.\n",
       "    \"\"\"\n",
       "    try:\n",
       "        # Sending a GET request to the API\n",
       "        response = requests.get(url)\n",
       "\n",
       "        # Raise an exception for HTTP errors\n",
       "        response.raise_for_status()\n",
       "\n",
       "        # Return the JSON response\n",
       "        return response.json()\n",
       "        \n",
       "    except requests.exceptions.HTTPError as http_err:\n",
       "        print(f\"HTTP error occurred: {http_err}\")\n",
       "    except requests.exceptions.ConnectionError as conn_err:\n",
       "        print(f\"Connection error occurred: {conn_err}\")\n",
       "    except requests.exceptions.Timeout as timeout_err:\n",
       "        print(f\"Timeout error occurred: {timeout_err}\")\n",
       "    except requests.exceptions.RequestException as req_err:\n",
       "        print(f\"An error occurred: {req_err}\")\n",
       "    return None\n",
       "\n",
       "if __name__ == \"__main__\":\n",
       "    # Example usage\n",
       "    api_url = \"https://api.example.com/data\"  # Replace with a real API URL\n",
       "    data = fetch_data_from_api(api_url)\n",
       "    \n",
       "    if data is not None:\n",
       "        print(\"Data fetched successfully:\")\n",
       "        print(data)\n",
       "    else:\n",
       "        print(\"Failed to fetch data.\")\n",
       "```\n",
       "\n",
       "### Explanation:\n",
       "1. **Importing Requests**: We import the `requests` library to facilitate making HTTP requests.\n",
       "2. **Function Definition**: The function `fetch_data_from_api` is defined to make it reusable.\n",
       "3. **Error Handling**: Various exceptions are caught to handle different types of errors that might occur during the request.\n",
       "4. **Main Block**: The `if __name__ == \"__main__\":` block allows us to run the example code when the script is executed directly.\n",
       "\n",
       "Make sure you have the `requests` library installed in your environment; you can install it via `pip`:\n",
       "\n",
       "```bash\n",
       "pip install requests\n",
       "```\n",
       "\n",
       "Feel free to run this code in an appropriate Python environment, and replace the `api_url` with a valid endpoint for testing."
      ]
     },
     "metadata": {},
     "output_type": "display_data"
    }
   ],
   "source": [
    "display_markdown(user_code, raw=True)\n",
    "# Output below..."
   ]
  },
  {
   "cell_type": "markdown",
   "id": "6a04ebe5-0573-4520-a529-aff22d486b7d",
   "metadata": {},
   "source": [
    "## Reflection Step\n"
   ]
  },
  {
   "cell_type": "markdown",
   "id": "020433f1",
   "metadata": {},
   "source": [
    "This is equivalent to asking a follow up question in say ChatGPT and we change the system prompt or what we want it to do along with the output from the previous query.\n"
   ]
  },
  {
   "cell_type": "code",
   "execution_count": 8,
   "id": "9d93c928-d585-48af-a74c-a5b8d84593c6",
   "metadata": {
    "tags": []
   },
   "outputs": [],
   "source": [
    "reflection_chat_history = [\n",
    "    {\n",
    "        \"role\": \"system\",\n",
    "        \"content\": \"You are an experienced and talented Pythonista. You are tasked with generating critique and recommendations for the user's code\",\n",
    "    }\n",
    "]"
   ]
  },
  {
   "cell_type": "code",
   "execution_count": 9,
   "id": "26af1a73-4d91-40e8-a9bc-c34d32b2ab82",
   "metadata": {
    "tags": []
   },
   "outputs": [],
   "source": [
    "# We add new messages to the list of messages so that the LLM has context and knowledge of what proceeded.\n",
    "\n",
    "# LLM calls are stateless and previous messages are not stored with the LLM. This is an important fact as we do not want to go over the context window for the LLM or incur unwanted costs if applicable.\n",
    "\n",
    "reflection_chat_history.append({\"role\": \"user\", \"content\": user_code})"
   ]
  },
  {
   "cell_type": "markdown",
   "id": "bfa994c8-3612-47b0-9571-e21d0d73d896",
   "metadata": {},
   "source": [
    "CRITIQUE TIME\n"
   ]
  },
  {
   "cell_type": "markdown",
   "id": "a628b75c",
   "metadata": {},
   "source": [
    "Now that we have the context and the request for a critique, we make a request to the LLM.\n"
   ]
  },
  {
   "cell_type": "code",
   "execution_count": 10,
   "id": "40fee42f-d47a-41b1-a40d-7208ba76ce98",
   "metadata": {
    "tags": []
   },
   "outputs": [],
   "source": [
    "critique = (\n",
    "    client.chat.completions.create(messages=reflection_chat_history, model=MODEL)\n",
    "    .choices[0]\n",
    "    .message.content\n",
    ")"
   ]
  },
  {
   "cell_type": "code",
   "execution_count": 11,
   "id": "0fef3203-c7f1-407f-8b9b-4e8ae140a4cb",
   "metadata": {
    "tags": []
   },
   "outputs": [
    {
     "data": {
      "text/markdown": [
       "Your code for making a GET request to an API using the `requests` library is well structured and easy to follow. Here are some critiques and recommendations to further improve it:\n",
       "\n",
       "### Strengths:\n",
       "1. **Clear Functionality**: The function has a well-defined purpose: to fetch data from an API.\n",
       "   \n",
       "2. **Error Handling**: You've incorporated thorough error handling for different exception types, which is important for debugging and maintaining robustness in network operations.\n",
       "\n",
       "3. **Usage of `raise_for_status()`**: This method automatically raises an HTTPError for bad responses (4xx and 5xx), which simplifies error handling.\n",
       "\n",
       "4. **Documentation**: The docstring effectively communicates the function’s parameters and return type.\n",
       "\n",
       "### Recommendations for Improvements:\n",
       "\n",
       "1. **Logging Instead of Printing**:\n",
       "   - Instead of using `print()` statements for error handling, consider using the `logging` module. This allows for better control of how error messages are recorded and can be adjusted for different environments (development vs. production).\n",
       "   ```python\n",
       "   import logging\n",
       "   logging.basicConfig(level=logging.ERROR)\n",
       "   ...\n",
       "   logging.error(f\"HTTP error occurred: {http_err}\")\n",
       "   ```\n",
       "\n",
       "2. **Timeouts**:\n",
       "   - It's good practice to set a timeout when making API calls. This prevents the request from hanging indefinitely. The `get()` method can take a `timeout` parameter.\n",
       "   ```python\n",
       "   response = requests.get(url, timeout=10)  # 10 seconds timeout\n",
       "   ```\n",
       "\n",
       "3. **Return Type Clarity**:\n",
       "   - Although you return `None` for failed requests, it would be better to keep the return type consistent. Consider returning an empty dictionary instead of `None`, unless `None` signifies something specific in your application.\n",
       "   ```python\n",
       "   return {}\n",
       "   ```\n",
       "\n",
       "4. **Type Hinting**:\n",
       "   - Adding type hints can increase the readability of your code and improve the usability of the function in larger projects.\n",
       "   ```python\n",
       "   def fetch_data_from_api(url: str) -> dict:\n",
       "   ```\n",
       "\n",
       "5. **Configurable API URL**:\n",
       "   - Instead of hardcoding the API URL, consider making it configurable (e.g., via environment variables or a configuration file). This enhances the flexibility of your code when deploying to different environments.\n",
       "\n",
       "6. **Add Tests**:\n",
       "   - If this is part of a larger application, consider writing unit tests. You can use `unittest` or `pytest` to test this function with both valid and invalid URLs, checking that it handles each case as expected.\n",
       "\n",
       "7. **Consider JSON Decoding Exceptions**:\n",
       "   - Handle cases where the response might not be valid JSON. You can catch `ValueError` when trying to decode the response.\n",
       "   ```python\n",
       "   return response.json()  # This can raise ValueError if the response is not valid JSON\n",
       "   ```\n",
       "\n",
       "### Revised Example Code:\n",
       "\n",
       "Here’s a slightly modified version of your code incorporating some of the above recommendations:\n",
       "\n",
       "```python\n",
       "import requests\n",
       "import logging\n",
       "\n",
       "logging.basicConfig(level=logging.ERROR)\n",
       "\n",
       "def fetch_data_from_api(url: str) -> dict:\n",
       "    \"\"\"\n",
       "    Fetch data from the specified API URL.\n",
       "\n",
       "    :param url: The API endpoint URL to request data from.\n",
       "    :return: JSON response as dictionary if the request was successful, empty dict otherwise.\n",
       "    \"\"\"\n",
       "    try:\n",
       "        response = requests.get(url, timeout=10)  # Set a timeout\n",
       "        response.raise_for_status()\n",
       "        return response.json()\n",
       "    except requests.exceptions.HTTPError as http_err:\n",
       "        logging.error(f\"HTTP error occurred: {http_err}\")\n",
       "    except requests.exceptions.ConnectionError as conn_err:\n",
       "        logging.error(f\"Connection error occurred: {conn_err}\")\n",
       "    except requests.exceptions.Timeout as timeout_err:\n",
       "        logging.error(f\"Timeout error occurred: {timeout_err}\")\n",
       "    except requests.exceptions.RequestException as req_err:\n",
       "        logging.error(f\"An error occurred: {req_err}\")\n",
       "    except ValueError as json_err:\n",
       "        logging.error(f\"JSON decoding error: {json_err}\")\n",
       "\n",
       "    return {}  # Return an empty dict instead of None\n",
       "\n",
       "if __name__ == \"__main__\":\n",
       "    api_url = \"https://api.example.com/data\"  # Replace with a real API URL\n",
       "    data = fetch_data_from_api(api_url)\n",
       "    \n",
       "    if data:\n",
       "        print(\"Data fetched successfully:\")\n",
       "        print(data)\n",
       "    else:\n",
       "        print(\"Failed to fetch data.\")\n",
       "```\n",
       "\n",
       "Your implementation is off to a great start! With these adjustments, you'll enhance its robustness and usability."
      ]
     },
     "metadata": {},
     "output_type": "display_data"
    }
   ],
   "source": [
    "# Display\n",
    "\n",
    "display_markdown(critique, raw=True)\n",
    "# Critique displayed below..."
   ]
  },
  {
   "cell_type": "markdown",
   "id": "5df433b0-d662-4378-895e-6b09dd3201bc",
   "metadata": {},
   "source": [
    "Add CRITIQUE to chat...\n",
    "\n",
    "Notice how we are appending previous responses so that the next SYSTEM MESSAGE has history or context.\n"
   ]
  },
  {
   "cell_type": "code",
   "execution_count": 12,
   "id": "27a85bb3-cf6a-4576-8caf-cd41e602a1f1",
   "metadata": {
    "tags": []
   },
   "outputs": [],
   "source": [
    "generation_chat_history.append({\"role\": \"user\", \"content\": critique})"
   ]
  },
  {
   "cell_type": "markdown",
   "id": "c3c1aefa-8454-41ab-af40-2675f340a577",
   "metadata": {},
   "source": [
    "Response to CRITIQUE\n"
   ]
  },
  {
   "cell_type": "code",
   "execution_count": 13,
   "id": "91d845cf-51c3-4cfd-b6a7-1b970413f6db",
   "metadata": {
    "tags": []
   },
   "outputs": [],
   "source": [
    "essay = (\n",
    "    client.chat.completions.create(messages=generation_chat_history, model=MODEL)\n",
    "    .choices[0]\n",
    "    .message.content\n",
    ")"
   ]
  },
  {
   "cell_type": "code",
   "execution_count": 14,
   "id": "ef14eaa8-f501-4efc-997f-8564ec8dccd8",
   "metadata": {
    "tags": []
   },
   "outputs": [
    {
     "data": {
      "text/markdown": [
       "Thank you for your valuable feedback! Here’s the revised version of the previous implementation for making a GET request to an API using the `requests` library, incorporating your suggestions for improvement.\n",
       "\n",
       "### Revised Python Implementation\n",
       "\n",
       "```python\n",
       "import requests\n",
       "import logging\n",
       "\n",
       "# Set up logging to capture errors\n",
       "logging.basicConfig(level=logging.ERROR)\n",
       "\n",
       "def fetch_data_from_api(url: str) -> dict:\n",
       "    \"\"\"\n",
       "    Fetch data from the specified API URL.\n",
       "\n",
       "    :param url: The API endpoint URL to request data from.\n",
       "    :return: JSON response as a dictionary if the request was successful, empty dict otherwise.\n",
       "    \"\"\"\n",
       "    try:\n",
       "        # Sending a GET request with a timeout\n",
       "        response = requests.get(url, timeout=10)  # Set a timeout\n",
       "\n",
       "        # Raise an exception for HTTP errors\n",
       "        response.raise_for_status()\n",
       "\n",
       "        # Attempt to return the JSON response\n",
       "        return response.json()\n",
       "        \n",
       "    except requests.exceptions.HTTPError as http_err:\n",
       "        logging.error(f\"HTTP error occurred: {http_err}\")\n",
       "    except requests.exceptions.ConnectionError as conn_err:\n",
       "        logging.error(f\"Connection error occurred: {conn_err}\")\n",
       "    except requests.exceptions.Timeout as timeout_err:\n",
       "        logging.error(f\"Timeout error occurred: {timeout_err}\")\n",
       "    except requests.exceptions.RequestException as req_err:\n",
       "        logging.error(f\"An unexpected error occurred: {req_err}\")\n",
       "    except ValueError as json_err:\n",
       "        logging.error(f\"JSON decoding error: {json_err}\")\n",
       "\n",
       "    return {}  # Return an empty dict instead of None\n",
       "\n",
       "if __name__ == \"__main__\":\n",
       "    # Example usage\n",
       "    api_url = \"https://api.example.com/data\"  # Replace with a real API URL\n",
       "    data = fetch_data_from_api(api_url)\n",
       "    \n",
       "    if data:\n",
       "        print(\"Data fetched successfully:\")\n",
       "        print(data)\n",
       "    else:\n",
       "        print(\"Failed to fetch data.\")\n",
       "```\n",
       "\n",
       "### Improvements Included:\n",
       "1. **Logging**: Integrated the `logging` module for improved error reporting instead of using prints.\n",
       "2. **Timeouts**: Implemented a timeout for the request to prevent indefinite waiting.\n",
       "3. **Return Type**: Changed the return value on failure to an empty dictionary to provide consistency in return type.\n",
       "4. **Type Hinting**: Added type hints to improve clarity regarding function parameters and return types.\n",
       "5. **Error Handling for JSON Decoding**: Added a `ValueError` exception handling to capture issues arising from invalid JSON responses.\n",
       "\n",
       "These changes enhance the code's usability and robustness, especially in production environments. Thank you for your insightful critique!"
      ]
     },
     "metadata": {},
     "output_type": "display_data"
    }
   ],
   "source": [
    "# Diaply user response to CRITIQUE\n",
    "display_markdown(essay, raw=True)\n",
    "# Response to critique displayed below..."
   ]
  },
  {
   "cell_type": "markdown",
   "id": "75883af2-f31d-4c24-b1ff-315a0711f9fa",
   "metadata": {},
   "source": [
    "<br>\n",
    "\n",
    "### We can of course make this a Class...\n"
   ]
  }
 ],
 "metadata": {
  "kernelspec": {
   "display_name": "venv",
   "language": "python",
   "name": "python3"
  },
  "language_info": {
   "codemirror_mode": {
    "name": "ipython",
    "version": 3
   },
   "file_extension": ".py",
   "mimetype": "text/x-python",
   "name": "python",
   "nbconvert_exporter": "python",
   "pygments_lexer": "ipython3",
   "version": "3.12.5"
  }
 },
 "nbformat": 4,
 "nbformat_minor": 5
}
