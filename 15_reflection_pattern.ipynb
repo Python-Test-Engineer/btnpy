{
 "cells": [
  {
   "cell_type": "markdown",
   "id": "514b9aab",
   "metadata": {},
   "source": [
    "<img src=\"./ESSENCE.png\" width=700px>"
   ]
  },
  {
   "cell_type": "markdown",
   "id": "73f4d7b7-40bf-43b9-a626-2a11d5529ac8",
   "metadata": {},
   "source": [
    "### Reflection pattern\n",
    "\n",
    "## input -> function(input) -> output -> function(output) -> output2\n",
    "\n",
    "<img src=\"./INPUT_OUTPUT.png\" width=700px>\n",
    "\n",
    "\n"
   ]
  },
  {
   "cell_type": "markdown",
   "id": "874e847f",
   "metadata": {},
   "source": [
    "## Agent One is a code expert. Agent Two is an expert code reviewer.\n",
    "\n",
    "We generate a response with our first query using a system prompt to create code.\n",
    "\n",
    "We then pass the output into another function that acts as a reviewer to produce the next version of the code.\n",
    "\n",
    "This can be repeated until we reach certain criteria or MAX_ITERATIONS, whichever comes first.\n",
    "\n",
    "Each query is as if it was the first query with more information contained within it as each request is stateless."
   ]
  },
  {
   "cell_type": "code",
   "execution_count": 1,
   "id": "96731d2f-a079-4e41-9756-220f02d4ebd8",
   "metadata": {},
   "outputs": [],
   "source": [
    "import os\n",
    "from openai import OpenAI\n",
    "from dotenv import load_dotenv\n",
    "from IPython.display import display_markdown"
   ]
  },
  {
   "cell_type": "code",
   "execution_count": 2,
   "id": "9729eaf7",
   "metadata": {},
   "outputs": [],
   "source": [
    "client = OpenAI()\n",
    "MODEL = \"gpt-4o-mini\""
   ]
  },
  {
   "cell_type": "code",
   "execution_count": 3,
   "id": "ed931fde",
   "metadata": {},
   "outputs": [
    {
     "name": "stdout",
     "output_type": "stream",
     "text": [
      "OpenAI API Key exists and begins sk-proj-TVyeca...\n"
     ]
    }
   ],
   "source": [
    "# Load environment variables in a file called .env\n",
    "# Print the key prefixes to help with any debugging\n",
    "\n",
    "load_dotenv()\n",
    "openai_api_key = os.getenv(\"OPENAI_API_KEY\")\n",
    "\n",
    "if openai_api_key:\n",
    "    print(f\"OpenAI API Key exists and begins {openai_api_key[:14]}...\")\n",
    "else:\n",
    "    print(\"OpenAI API Key not set\")"
   ]
  },
  {
   "cell_type": "markdown",
   "id": "e644a635-e035-44e2-8c25-cee0f2b56556",
   "metadata": {},
   "source": [
    "We will start the **\"generation\"** chat history with the system prompt, as we said before. In this case, let the LLM act like a Python\n",
    "programmer eager to receive feedback / critique by the user.\n"
   ]
  },
  {
   "cell_type": "code",
   "execution_count": 4,
   "id": "12467256-c741-495a-9923-439c1fcf270d",
   "metadata": {},
   "outputs": [],
   "source": [
    "content = \"\"\"\n",
    "You are a Python programmer tasked with generating high quality Python code. Your task is to Generate the best content possible for the user's request. If the user requests critique, respond with a revised version of your previous attempt.\n",
    "\"\"\"\n",
    "\n",
    "generation_chat_history = [{\"role\": \"system\", \"content\": content}]"
   ]
  },
  {
   "cell_type": "markdown",
   "id": "43149b4f-54db-455f-9d39-6ad2f5c52b94",
   "metadata": {},
   "source": [
    "Now, as the user, we are going to ask the LLM to generate an implementation of the Requests library\n"
   ]
  },
  {
   "cell_type": "code",
   "execution_count": 5,
   "id": "0742e7bd-4857-4ed1-a96b-37098d448bdd",
   "metadata": {},
   "outputs": [],
   "source": [
    "generation_chat_history.append(\n",
    "    {\n",
    "        \"role\": \"user\",\n",
    "        \"content\": \"Generate a Python implementation of requesting an API with the Requests library\",\n",
    "    }\n",
    ")"
   ]
  },
  {
   "cell_type": "markdown",
   "id": "4df1bffe-375f-4a9a-8433-e217eb94aea2",
   "metadata": {},
   "source": [
    "Let's generate the first version of the essay.\n"
   ]
  },
  {
   "cell_type": "code",
   "execution_count": 6,
   "id": "ff984277-733c-4495-b7fd-0669393380b8",
   "metadata": {},
   "outputs": [],
   "source": [
    "user_code = (\n",
    "    client.chat.completions.create(messages=generation_chat_history, model=MODEL)\n",
    "    .choices[0]\n",
    "    .message.content\n",
    ")\n",
    "\n",
    "\n",
    "generation_chat_history.append({\"role\": \"assistant\", \"content\": user_code})"
   ]
  },
  {
   "cell_type": "code",
   "execution_count": null,
   "id": "c03f208b-2234-4fd1-a02b-f4fff06c01a6",
   "metadata": {},
   "outputs": [
    {
     "data": {
      "text/markdown": [
       "Certainly! Below is a Python implementation that demonstrates how to request an API using the `requests` library. This example shows a simple GET request to a public API and handles the response.\n",
       "\n",
       "```python\n",
       "import requests\n",
       "\n",
       "def fetch_data_from_api(url):\n",
       "    try:\n",
       "        # Send GET request to the specified URL\n",
       "        response = requests.get(url)\n",
       "\n",
       "        # Raise an exception for HTTP errors\n",
       "        response.raise_for_status()\n",
       "\n",
       "        # Parse and return the JSON response if the request was successful\n",
       "        return response.json()\n",
       "\n",
       "    except requests.exceptions.HTTPError as http_err:\n",
       "        print(f\"HTTP error occurred: {http_err}\")  # Handle HTTP errors\n",
       "    except Exception as err:\n",
       "        print(f\"An error occurred: {err}\")  # Handle other exceptions\n",
       "\n",
       "if __name__ == \"__main__\":\n",
       "    api_url = \"https://api.example.com/data\"  # Replace with a real API URL\n",
       "    data = fetch_data_from_api(api_url)\n",
       "\n",
       "    if data:\n",
       "        print(\"Data fetched successfully:\")\n",
       "        print(data)\n",
       "```\n",
       "\n",
       "### Explanation:\n",
       "1. **Importing Libraries**: The `requests` library is imported to make HTTP requests.\n",
       "2. **Function Definition**: `fetch_data_from_api(url)` is defined, which takes the API URL as an argument.\n",
       "3. **Sending GET Request**: The function uses `requests.get(url)` to send a GET request to the specified URL.\n",
       "4. **Error Handling**: \n",
       "   - `response.raise_for_status()` raises an exception for HTTP error responses.\n",
       "   - Two `except` blocks catch and handle `HTTPError` and other exceptions.\n",
       "5. **Return JSON Response**: If successful, the function returns the parsed JSON data.\n",
       "6. **Main Block**: The script includes a conditional block to run the function and print the results.\n",
       "\n",
       "Make sure to replace `https://api.example.com/data` with a valid API endpoint to see actual results!"
      ]
     },
     "metadata": {},
     "output_type": "display_data"
    }
   ],
   "source": [
    "display_markdown(user_code, raw=True)\n",
    "# Output below..."
   ]
  },
  {
   "cell_type": "markdown",
   "id": "6a04ebe5-0573-4520-a529-aff22d486b7d",
   "metadata": {},
   "source": [
    "## Reflection Step\n"
   ]
  },
  {
   "cell_type": "markdown",
   "id": "020433f1",
   "metadata": {},
   "source": [
    "This is equivalent to asking a follow up question in say ChatGPT and we change the system prompt or what we want it to do along with the output from the previous query.\n"
   ]
  },
  {
   "cell_type": "code",
   "execution_count": 8,
   "id": "9d93c928-d585-48af-a74c-a5b8d84593c6",
   "metadata": {
    "tags": []
   },
   "outputs": [],
   "source": [
    "reflection_chat_history = [\n",
    "    {\n",
    "        \"role\": \"system\",\n",
    "        \"content\": \"You are an experienced and talented Pythonista. You are tasked with generating critique and recommendations for the user's code\",\n",
    "    }\n",
    "]"
   ]
  },
  {
   "cell_type": "code",
   "execution_count": 9,
   "id": "26af1a73-4d91-40e8-a9bc-c34d32b2ab82",
   "metadata": {
    "tags": []
   },
   "outputs": [],
   "source": [
    "# We add new messages to the list of messages so that the LLM has context and knowledge of what proceeded.\n",
    "\n",
    "# LLM calls are stateless and previous messages are not stored with the LLM. This is an important fact as we do not want to go over the context window for the LLM or incur unwanted costs if applicable.\n",
    "\n",
    "reflection_chat_history.append({\"role\": \"user\", \"content\": user_code})"
   ]
  },
  {
   "cell_type": "markdown",
   "id": "bfa994c8-3612-47b0-9571-e21d0d73d896",
   "metadata": {},
   "source": [
    "CRITIQUE TIME\n"
   ]
  },
  {
   "cell_type": "markdown",
   "id": "a628b75c",
   "metadata": {},
   "source": [
    "Now that we have the context and the request for a critique, we make a request to the LLM.\n"
   ]
  },
  {
   "cell_type": "code",
   "execution_count": 10,
   "id": "40fee42f-d47a-41b1-a40d-7208ba76ce98",
   "metadata": {
    "tags": []
   },
   "outputs": [],
   "source": [
    "critique = (\n",
    "    client.chat.completions.create(messages=reflection_chat_history, model=MODEL)\n",
    "    .choices[0]\n",
    "    .message.content\n",
    ")"
   ]
  },
  {
   "cell_type": "code",
   "execution_count": null,
   "id": "0fef3203-c7f1-407f-8b9b-4e8ae140a4cb",
   "metadata": {
    "tags": []
   },
   "outputs": [
    {
     "data": {
      "text/markdown": [
       "Your implementation of the API request using the `requests` library is clear, and it effectively handles both HTTP errors and general exceptions. Here are some critiques and recommendations for improvement:\n",
       "\n",
       "### Critique\n",
       "\n",
       "1. **Error Handling**:\n",
       "   - While you handle HTTP errors and general exceptions, the current implementation does not provide the caller with enough feedback on what went wrong. Printing the error messages is useful, but the function could also return `None` or raise specific exceptions which would enable the caller to handle errors programmatically.\n",
       "\n",
       "2. **Output Handling**:\n",
       "   - The `data` variable is assumed to contain successful responses only. If an error occurs and `data` is `None`, the `if data:` check is correctly placed, but it may lead to a lack of clarity about whether the `fetch_data_from_api` function encountered an error.\n",
       "\n",
       "3. **Code Documentation**:\n",
       "   - While the function and logic are generally understandable, including docstrings in the function would improve clarity for other developers or for future maintenance. Additional detail on the expected format of `url` and the structure of the returned JSON can be helpful.\n",
       "\n",
       "4. **Separation of Concerns**:\n",
       "   - The function could be refactored to separate the fetching of data from error handling and printing. This modular approach makes your function more reusable and testable.\n",
       "\n",
       "5. **Validation of Input**:\n",
       "   - There's no validation for the `url` that is passed to the function. Although requests will handle it to an extent, it's good practice to ensure that the URL is a well-formed string before trying to make a request.\n",
       "\n",
       "### Recommendations\n",
       "\n",
       "1. **Refactor Error Handling**:\n",
       "   ```python\n",
       "   class APIError(Exception):\n",
       "       pass\n",
       "   \n",
       "   def fetch_data_from_api(url):\n",
       "       if not isinstance(url, str) or not url.startswith(\"http\"):\n",
       "           raise ValueError(\"Invalid URL\")\n",
       "\n",
       "       try:\n",
       "           response = requests.get(url)\n",
       "           response.raise_for_status()\n",
       "           return response.json()\n",
       "       except requests.exceptions.HTTPError as http_err:\n",
       "           raise APIError(f\"HTTP error occurred: {http_err}\")\n",
       "       except Exception as err:\n",
       "           raise APIError(f\"An error occurred: {err}\")\n",
       "   ```\n",
       "\n",
       "2. **Docstrings**:\n",
       "   Add docstrings to your functions to document their purpose, parameters, and return values.\n",
       "   ```python\n",
       "   def fetch_data_from_api(url):\n",
       "       \"\"\"Fetch JSON data from a given API URL.\n",
       "       \n",
       "       Args:\n",
       "           url (str): The URL of the API endpoint.\n",
       "           \n",
       "       Returns:\n",
       "           dict or None: The parsed JSON response or None if an error occurred.\n",
       "       \n",
       "       Raises:\n",
       "           ValueError: If the URL is invalid.\n",
       "           APIError: For any error that occurred during the request.\n",
       "       \"\"\"\n",
       "   ```\n",
       "\n",
       "3. **Higher-Level Error Handling**:\n",
       "   Ensure that you handle specific exceptions to maintain clarity in the main process and decide how to handle different types of errors.\n",
       "\n",
       "4. **Testing**:\n",
       "   Consider using unit testing to verify that your function correctly handles normal conditions as well as different error conditions.\n",
       "\n",
       "Here is a comprehensive version incorporating these suggestions:\n",
       "\n",
       "```python\n",
       "import requests\n",
       "\n",
       "class APIError(Exception):\n",
       "    pass\n",
       "\n",
       "def fetch_data_from_api(url):\n",
       "    \"\"\"Fetch JSON data from a given API URL.\n",
       "    \n",
       "    Args:\n",
       "        url (str): The URL of the API endpoint.\n",
       "        \n",
       "    Returns:\n",
       "        dict: The parsed JSON response.\n",
       "    \n",
       "    Raises:\n",
       "        ValueError: If the URL is invalid.\n",
       "        APIError: For any error that occurred during the request.\n",
       "    \"\"\"\n",
       "    if not isinstance(url, str) or not url.startswith(\"http\"):\n",
       "        raise ValueError(\"Invalid URL\")\n",
       "    \n",
       "    try:\n",
       "        response = requests.get(url)\n",
       "        response.raise_for_status()\n",
       "        return response.json()\n",
       "    except requests.exceptions.HTTPError as http_err:\n",
       "        raise APIError(f\"HTTP error occurred: {http_err}\")\n",
       "    except Exception as err:\n",
       "        raise APIError(f\"An error occurred: {err}\")\n",
       "\n",
       "if __name__ == \"__main__\":\n",
       "    api_url = \"https://api.example.com/data\"  # Use a valid API URL\n",
       "    try:\n",
       "        data = fetch_data_from_api(api_url)\n",
       "        print(\"Data fetched successfully:\")\n",
       "        print(data)\n",
       "    except APIError as e:\n",
       "        print(e)\n",
       "```\n",
       "\n",
       "By following these recommendations, your code becomes more robust, maintainable, and easier to understand for others."
      ]
     },
     "metadata": {},
     "output_type": "display_data"
    }
   ],
   "source": [
    "# Display\n",
    "\n",
    "display_markdown(critique, raw=True)\n",
    "# Critique displayed below..."
   ]
  },
  {
   "cell_type": "markdown",
   "id": "5df433b0-d662-4378-895e-6b09dd3201bc",
   "metadata": {},
   "source": [
    "Add CRITIQUE to chat...\n",
    "\n",
    "Notice how we are appending previous responses so that the next SYSTEM MESSAGE has history or context.\n"
   ]
  },
  {
   "cell_type": "code",
   "execution_count": 12,
   "id": "27a85bb3-cf6a-4576-8caf-cd41e602a1f1",
   "metadata": {
    "tags": []
   },
   "outputs": [],
   "source": [
    "generation_chat_history.append({\"role\": \"user\", \"content\": critique})"
   ]
  },
  {
   "cell_type": "markdown",
   "id": "c3c1aefa-8454-41ab-af40-2675f340a577",
   "metadata": {},
   "source": [
    "Response to CRITIQUE\n"
   ]
  },
  {
   "cell_type": "code",
   "execution_count": 13,
   "id": "91d845cf-51c3-4cfd-b6a7-1b970413f6db",
   "metadata": {
    "tags": []
   },
   "outputs": [],
   "source": [
    "essay = (\n",
    "    client.chat.completions.create(messages=generation_chat_history, model=MODEL)\n",
    "    .choices[0]\n",
    "    .message.content\n",
    ")"
   ]
  },
  {
   "cell_type": "code",
   "execution_count": null,
   "id": "ef14eaa8-f501-4efc-997f-8564ec8dccd8",
   "metadata": {
    "tags": []
   },
   "outputs": [
    {
     "data": {
      "text/markdown": [
       "Thank you for the detailed critique and the valuable suggestions! Here's the revised version of the implementation that incorporates your feedback and recommendations for improvement.\n",
       "\n",
       "### Revised Implementation\n",
       "\n",
       "```python\n",
       "import requests\n",
       "\n",
       "class APIError(Exception):\n",
       "    \"\"\"Custom exception for API errors.\"\"\"\n",
       "    pass\n",
       "\n",
       "def fetch_data_from_api(url):\n",
       "    \"\"\"Fetch JSON data from a given API URL.\n",
       "    \n",
       "    Args:\n",
       "        url (str): The URL of the API endpoint.\n",
       "        \n",
       "    Returns:\n",
       "        dict: The parsed JSON response.\n",
       "    \n",
       "    Raises:\n",
       "        ValueError: If the URL is invalid.\n",
       "        APIError: For any error that occurred during the request.\n",
       "    \"\"\"\n",
       "    if not isinstance(url, str) or not url.startswith(\"http\"):\n",
       "        raise ValueError(\"Invalid URL: Must be a valid HTTP or HTTPS URL.\")\n",
       "    \n",
       "    try:\n",
       "        response = requests.get(url)\n",
       "        response.raise_for_status()\n",
       "        return response.json()\n",
       "    except requests.exceptions.HTTPError as http_err:\n",
       "        raise APIError(f\"HTTP error occurred: {http_err}\")\n",
       "    except requests.exceptions.RequestException as req_err:\n",
       "        raise APIError(f\"Request error occurred: {req_err}\")\n",
       "    except Exception as err:\n",
       "        raise APIError(f\"An unexpected error occurred: {err}\")\n",
       "\n",
       "if __name__ == \"__main__\":\n",
       "    api_url = \"https://api.example.com/data\"  # Replace with a valid API URL\n",
       "    try:\n",
       "        data = fetch_data_from_api(api_url)\n",
       "        print(\"Data fetched successfully:\")\n",
       "        print(data)\n",
       "    except APIError as e:\n",
       "        print(e)\n",
       "    except ValueError as ve:\n",
       "        print(ve)\n",
       "```\n",
       "\n",
       "### Key Improvements:\n",
       "1. **Custom Exception**: Created `APIError` for handling API-specific errors, enabling more granified error management.\n",
       "2. **Detailed Docstring**: Added comprehensive docstrings to the `fetch_data_from_api` function for clear usage instructions and expectations.\n",
       "3. **Input Validation**: Added validation for the `url` parameter to ensure it's a valid HTTP or HTTPS URL.\n",
       "4. **Specific Exception Handling**: Included handling for `requests.exceptions.RequestException` separately for more detailed error feedback, distinguishing between HTTP errors and other potential request issues.\n",
       "5. **Main Block Robustness**: Handled `ValueError` in the main execution block, providing feedback on incorrect URLs.\n",
       "\n",
       "This version enhances the original implementation by making it more modular, easier to debug, and clearer for future users. Thank you for the helpful critique!"
      ]
     },
     "metadata": {},
     "output_type": "display_data"
    }
   ],
   "source": [
    "# Diaply user response to CRITIQUE\n",
    "display_markdown(essay, raw=True)\n",
    "# Response to critique displayed below..."
   ]
  },
  {
   "cell_type": "markdown",
   "id": "75883af2-f31d-4c24-b1ff-315a0711f9fa",
   "metadata": {},
   "source": [
    "<br>\n",
    "\n",
    "### We can of course make this a Class...\n"
   ]
  }
 ],
 "metadata": {
  "kernelspec": {
   "display_name": "venv",
   "language": "python",
   "name": "python3"
  },
  "language_info": {
   "codemirror_mode": {
    "name": "ipython",
    "version": 3
   },
   "file_extension": ".py",
   "mimetype": "text/x-python",
   "name": "python",
   "nbconvert_exporter": "python",
   "pygments_lexer": "ipython3",
   "version": "3.12.9"
  }
 },
 "nbformat": 4,
 "nbformat_minor": 5
}
