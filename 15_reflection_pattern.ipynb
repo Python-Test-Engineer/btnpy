{
 "cells": [
  {
   "cell_type": "markdown",
   "id": "514b9aab",
   "metadata": {},
   "source": [
    "<img src=\"./ESSENCE.png\" width=700px>"
   ]
  },
  {
   "cell_type": "markdown",
   "id": "73f4d7b7-40bf-43b9-a626-2a11d5529ac8",
   "metadata": {},
   "source": [
    "### Reflection pattern\n",
    "\n",
    "## input -> function(input) -> output -> function(output) -> output2\n",
    "\n",
    "<img src=\"./INPUT_OUTPUT.png\" width=700px>\n",
    "\n",
    "\n"
   ]
  },
  {
   "cell_type": "markdown",
   "id": "874e847f",
   "metadata": {},
   "source": [
    "## Agent One is a code expert. Agent Two is an expert code reviewer.\n",
    "\n",
    "We generate a response with our first query using a system prompt to create code.\n",
    "\n",
    "We then pass the output into another function that acts as a reviewer to produce the next version of the code.\n",
    "\n",
    "This can be repeated until we reach certain criteria or MAX_ITERATIONS, whichever comes first.\n",
    "\n",
    "Each query is as if it was the first query with more information contained within it as each request is stateless."
   ]
  },
  {
   "cell_type": "code",
   "execution_count": 1,
   "id": "96731d2f-a079-4e41-9756-220f02d4ebd8",
   "metadata": {},
   "outputs": [],
   "source": [
    "import os\n",
    "from openai import OpenAI\n",
    "from dotenv import load_dotenv\n",
    "from IPython.display import display_markdown"
   ]
  },
  {
   "cell_type": "code",
   "execution_count": 2,
   "id": "9729eaf7",
   "metadata": {},
   "outputs": [],
   "source": [
    "client = OpenAI()\n",
    "MODEL = \"gpt-4o-mini\""
   ]
  },
  {
   "cell_type": "code",
   "execution_count": 3,
   "id": "ed931fde",
   "metadata": {},
   "outputs": [
    {
     "name": "stdout",
     "output_type": "stream",
     "text": [
      "OpenAI API Key exists and begins sk-proj-TVyeca...\n"
     ]
    }
   ],
   "source": [
    "# Load environment variables in a file called .env\n",
    "# Print the key prefixes to help with any debugging\n",
    "\n",
    "load_dotenv()\n",
    "openai_api_key = os.getenv(\"OPENAI_API_KEY\")\n",
    "\n",
    "if openai_api_key:\n",
    "    print(f\"OpenAI API Key exists and begins {openai_api_key[:14]}...\")\n",
    "else:\n",
    "    print(\"OpenAI API Key not set\")"
   ]
  },
  {
   "cell_type": "markdown",
   "id": "e644a635-e035-44e2-8c25-cee0f2b56556",
   "metadata": {},
   "source": [
    "We will start the **\"generation\"** chat history with the system prompt, as we said before. In this case, let the LLM act like a Python\n",
    "programmer eager to receive feedback / critique by the user.\n"
   ]
  },
  {
   "cell_type": "code",
   "execution_count": 4,
   "id": "12467256-c741-495a-9923-439c1fcf270d",
   "metadata": {},
   "outputs": [],
   "source": [
    "content = \"\"\"\n",
    "You are a Python programmer tasked with generating high quality Python code. Your task is to Generate the best content possible for the user's request. If the user requests critique, respond with a revised version of your previous attempt.\n",
    "\"\"\"\n",
    "\n",
    "generation_chat_history = [{\"role\": \"system\", \"content\": content}]"
   ]
  },
  {
   "cell_type": "markdown",
   "id": "43149b4f-54db-455f-9d39-6ad2f5c52b94",
   "metadata": {},
   "source": [
    "Now, as the user, we are going to ask the LLM to generate an implementation of the Requests library\n"
   ]
  },
  {
   "cell_type": "code",
   "execution_count": 5,
   "id": "0742e7bd-4857-4ed1-a96b-37098d448bdd",
   "metadata": {},
   "outputs": [],
   "source": [
    "generation_chat_history.append(\n",
    "    {\n",
    "        \"role\": \"user\",\n",
    "        \"content\": \"Generate a Python implementation of requesting an API with the Requests library\",\n",
    "    }\n",
    ")"
   ]
  },
  {
   "cell_type": "markdown",
   "id": "4df1bffe-375f-4a9a-8433-e217eb94aea2",
   "metadata": {},
   "source": [
    "Let's generate the first version of the essay.\n"
   ]
  },
  {
   "cell_type": "code",
   "execution_count": 6,
   "id": "ff984277-733c-4495-b7fd-0669393380b8",
   "metadata": {},
   "outputs": [],
   "source": [
    "user_code = (\n",
    "    client.chat.completions.create(messages=generation_chat_history, model=MODEL)\n",
    "    .choices[0]\n",
    "    .message.content\n",
    ")\n",
    "\n",
    "\n",
    "generation_chat_history.append({\"role\": \"assistant\", \"content\": user_code})"
   ]
  },
  {
   "cell_type": "code",
   "execution_count": 7,
   "id": "c03f208b-2234-4fd1-a02b-f4fff06c01a6",
   "metadata": {},
   "outputs": [
    {
     "data": {
      "text/markdown": [
       "Here’s a simple yet comprehensive implementation to make an API request using the `requests` library in Python. This example demonstrates how to perform a GET request, handle possible exceptions, and display the response.\n",
       "\n",
       "```python\n",
       "import requests\n",
       "\n",
       "def get_api_response(url, params=None):\n",
       "    \"\"\"\n",
       "    Sends a GET request to the specified API URL with optional parameters.\n",
       "    \n",
       "    Args:\n",
       "    - url (str): The API endpoint URL.\n",
       "    - params (dict, optional): A dictionary of query parameters to send with the request.\n",
       "    \n",
       "    Returns:\n",
       "    - dict: The JSON response from the API if the request is successful.\n",
       "    - None: If the request fails.\n",
       "    \"\"\"\n",
       "    try:\n",
       "        response = requests.get(url, params=params)\n",
       "\n",
       "        # Check if the request was successful\n",
       "        response.raise_for_status()\n",
       "\n",
       "        # Return the JSON response\n",
       "        return response.json()\n",
       "    \n",
       "    except requests.exceptions.HTTPError as http_err:\n",
       "        print(f\"HTTP error occurred: {http_err}\")\n",
       "    except requests.exceptions.ConnectionError as conn_err:\n",
       "        print(f\"Connection error occurred: {conn_err}\")\n",
       "    except requests.exceptions.Timeout as timeout_err:\n",
       "        print(f\"Timeout error occurred: {timeout_err}\")\n",
       "    except requests.exceptions.RequestException as req_err:\n",
       "        print(f\"An error occurred: {req_err}\")\n",
       "\n",
       "    return None\n",
       "\n",
       "# Example usage\n",
       "if __name__ == \"__main__\":\n",
       "    url = \"https://api.example.com/data\"\n",
       "    params = {'key1': 'value1', 'key2': 'value2'}\n",
       "    \n",
       "    result = get_api_response(url, params)\n",
       "    if result is not None:\n",
       "        print(\"API Response:\", result)\n",
       "    else:\n",
       "        print(\"Failed to retrieve data from API.\")\n",
       "```\n",
       "\n",
       "### Explanation:\n",
       "- **Function `get_api_response`**: This function takes a URL and optional parameters to make a GET request.\n",
       "- **Error Handling**: It includes robust error handling to catch various exceptions that may arise during the request process.\n",
       "- **Return Value**: It returns the JSON content of the response if the request is successful; otherwise, it returns `None`.\n",
       "- **Example Usage**: The example at the bottom shows how to call the function and handle its output.\n",
       "\n",
       "Make sure to install the `requests` library if you haven't already, using:\n",
       "```bash\n",
       "pip install requests\n",
       "``` \n",
       "\n",
       "Feel free to modify the URL and parameters according to your API specifications!"
      ]
     },
     "metadata": {},
     "output_type": "display_data"
    }
   ],
   "source": [
    "display_markdown(user_code, raw=True)\n",
    "# Output below..."
   ]
  },
  {
   "cell_type": "markdown",
   "id": "6a04ebe5-0573-4520-a529-aff22d486b7d",
   "metadata": {},
   "source": [
    "## Reflection Step\n"
   ]
  },
  {
   "cell_type": "markdown",
   "id": "020433f1",
   "metadata": {},
   "source": [
    "This is equivalent to asking a follow up question in say ChatGPT and we change the system prompt or what we want it to do along with the output from the previous query.\n"
   ]
  },
  {
   "cell_type": "code",
   "execution_count": 8,
   "id": "9d93c928-d585-48af-a74c-a5b8d84593c6",
   "metadata": {
    "tags": []
   },
   "outputs": [],
   "source": [
    "reflection_chat_history = [\n",
    "    {\n",
    "        \"role\": \"system\",\n",
    "        \"content\": \"You are an experienced and talented Pythonista. You are tasked with generating critique and recommendations for the user's code\",\n",
    "    }\n",
    "]"
   ]
  },
  {
   "cell_type": "code",
   "execution_count": 9,
   "id": "26af1a73-4d91-40e8-a9bc-c34d32b2ab82",
   "metadata": {
    "tags": []
   },
   "outputs": [],
   "source": [
    "# We add new messages to the list of messages so that the LLM has context and knowledge of what proceeded.\n",
    "\n",
    "# LLM calls are stateless and previous messages are not stored with the LLM. This is an important fact as we do not want to go over the context window for the LLM or incur unwanted costs if applicable.\n",
    "\n",
    "reflection_chat_history.append({\"role\": \"user\", \"content\": user_code})"
   ]
  },
  {
   "cell_type": "markdown",
   "id": "bfa994c8-3612-47b0-9571-e21d0d73d896",
   "metadata": {},
   "source": [
    "CRITIQUE TIME\n"
   ]
  },
  {
   "cell_type": "markdown",
   "id": "a628b75c",
   "metadata": {},
   "source": [
    "Now that we have the context and the request for a critique, we make a request to the LLM.\n"
   ]
  },
  {
   "cell_type": "code",
   "execution_count": 10,
   "id": "40fee42f-d47a-41b1-a40d-7208ba76ce98",
   "metadata": {
    "tags": []
   },
   "outputs": [],
   "source": [
    "critique = (\n",
    "    client.chat.completions.create(messages=reflection_chat_history, model=MODEL)\n",
    "    .choices[0]\n",
    "    .message.content\n",
    ")"
   ]
  },
  {
   "cell_type": "code",
   "execution_count": 11,
   "id": "0fef3203-c7f1-407f-8b9b-4e8ae140a4cb",
   "metadata": {
    "tags": []
   },
   "outputs": [
    {
     "data": {
      "text/markdown": [
       "Your code implementation for making API requests using the `requests` library is well-structured and covers many essential aspects, including error handling, clear documentation, and a sample usage scenario. Below is a critique of your code, along with some recommendations for improvement.\n",
       "\n",
       "### Critique\n",
       "\n",
       "1. **Documentation**: \n",
       "   - You provided a docstring for the `get_api_response` function, which is excellent. It concisely explains the arguments and return value. Consider mentioning the expected format of the JSON response, if applicable.\n",
       "\n",
       "2. **Optional Params Handling**: \n",
       "   - The use of `params=None` is a good practice for making parameters optional; however, it might be beneficial to clarify that the `params` dictionary can be empty or None without affecting the request.\n",
       "\n",
       "3. **Error Logging**:\n",
       "   - Currently, error messages are printed to the console, which might not be suitable for all applications, especially in production environments. It might be better to use Python's logging module for better control over logging levels and formats.\n",
       "\n",
       "4. **Response Handling**:\n",
       "   - While you're using `response.raise_for_status()` to catch HTTP errors, consider also validating the structure of the returned JSON data. If your API has a specific schema, you may want to check for required fields after getting the response.\n",
       "\n",
       "5. **Function Flexibility**:\n",
       "   - If desired, you can make the function more flexible by allowing the user to specify HTTP headers or authentication details as additional parameters.\n",
       "\n",
       "6. **Timeouts**: \n",
       "   - You might want to add a timeout argument to the `requests.get` call to prevent the application from hanging indefinitely while waiting for a response. This can be a crucial feature when dealing with network operations.\n",
       "\n",
       "### Recommendations\n",
       "\n",
       "Here’s an updated version of your implementation, incorporating some of the suggestions:\n",
       "\n",
       "```python\n",
       "import requests\n",
       "import logging\n",
       "\n",
       "logging.basicConfig(level=logging.INFO)\n",
       "\n",
       "def get_api_response(url, params=None, headers=None, timeout=10):\n",
       "    \"\"\"\n",
       "    Sends a GET request to the specified API URL with optional parameters and headers.\n",
       "    \n",
       "    Args:\n",
       "    - url (str): The API endpoint URL.\n",
       "    - params (dict, optional): A dictionary of query parameters to send with the request.\n",
       "    - headers (dict, optional): A dictionary of HTTP headers to send with the request.\n",
       "    - timeout (int, optional): Timeout in seconds for the request. Defaults to 10 seconds.\n",
       "    \n",
       "    Returns:\n",
       "    - dict: The JSON response from the API if the request is successful.\n",
       "    - None: If the request fails.\n",
       "    \"\"\"\n",
       "    try:\n",
       "        response = requests.get(url, params=params, headers=headers, timeout=timeout)\n",
       "        response.raise_for_status()\n",
       "        return response.json()\n",
       "    \n",
       "    except requests.exceptions.HTTPError as http_err:\n",
       "        logging.error(f\"HTTP error occurred: {http_err}\")\n",
       "    except requests.exceptions.ConnectionError as conn_err:\n",
       "        logging.error(f\"Connection error occurred: {conn_err}\")\n",
       "    except requests.exceptions.Timeout as timeout_err:\n",
       "        logging.error(f\"Timeout error occurred: {timeout_err}\")\n",
       "    except requests.exceptions.RequestException as req_err:\n",
       "        logging.error(f\"An error occurred: {req_err}\")\n",
       "\n",
       "    return None\n",
       "\n",
       "# Example usage\n",
       "if __name__ == \"__main__\":\n",
       "    url = \"https://api.example.com/data\"\n",
       "    params = {'key1': 'value1', 'key2': 'value2'}\n",
       "    \n",
       "    result = get_api_response(url, params)\n",
       "    if result is not None:\n",
       "        print(\"API Response:\", result)\n",
       "    else:\n",
       "        print(\"Failed to retrieve data from API.\")\n",
       "```\n",
       "\n",
       "### Summary\n",
       "Your code serves as a solid foundation for making API requests in Python. By implementing the recommendations mentioned, you can enhance its robustness, flexibility, and maintainability. Would you like to explore any specific enhancements further?"
      ]
     },
     "metadata": {},
     "output_type": "display_data"
    }
   ],
   "source": [
    "# Display\n",
    "\n",
    "display_markdown(critique, raw=True)\n",
    "# Critique displayed below..."
   ]
  },
  {
   "cell_type": "markdown",
   "id": "5df433b0-d662-4378-895e-6b09dd3201bc",
   "metadata": {},
   "source": [
    "Add CRITIQUE to chat...\n",
    "\n",
    "Notice how we are appending previous responses so that the next SYSTEM MESSAGE has history or context.\n"
   ]
  },
  {
   "cell_type": "code",
   "execution_count": 12,
   "id": "27a85bb3-cf6a-4576-8caf-cd41e602a1f1",
   "metadata": {
    "tags": []
   },
   "outputs": [],
   "source": [
    "generation_chat_history.append({\"role\": \"user\", \"content\": critique})"
   ]
  },
  {
   "cell_type": "markdown",
   "id": "c3c1aefa-8454-41ab-af40-2675f340a577",
   "metadata": {},
   "source": [
    "Response to CRITIQUE\n"
   ]
  },
  {
   "cell_type": "code",
   "execution_count": 13,
   "id": "91d845cf-51c3-4cfd-b6a7-1b970413f6db",
   "metadata": {
    "tags": []
   },
   "outputs": [],
   "source": [
    "essay = (\n",
    "    client.chat.completions.create(messages=generation_chat_history, model=MODEL)\n",
    "    .choices[0]\n",
    "    .message.content\n",
    ")"
   ]
  },
  {
   "cell_type": "code",
   "execution_count": 14,
   "id": "ef14eaa8-f501-4efc-997f-8564ec8dccd8",
   "metadata": {
    "tags": []
   },
   "outputs": [
    {
     "data": {
      "text/markdown": [
       "Thank you for your detailed critique and thoughtful recommendations! Here’s an improved version of the API request implementation, incorporating the suggestions you've provided:\n",
       "\n",
       "```python\n",
       "import requests\n",
       "import logging\n",
       "\n",
       "# Set up logging configuration\n",
       "logging.basicConfig(level=logging.INFO)\n",
       "\n",
       "def get_api_response(url, params=None, headers=None, timeout=10):\n",
       "    \"\"\"\n",
       "    Sends a GET request to the specified API URL with optional parameters and headers.\n",
       "    \n",
       "    Args:\n",
       "    - url (str): The API endpoint URL.\n",
       "    - params (dict, optional): A dictionary of query parameters to send with the request.\n",
       "    - headers (dict, optional): A dictionary of HTTP headers to send with the request.\n",
       "    - timeout (int, optional): Timeout in seconds for the request. Defaults to 10 seconds.\n",
       "    \n",
       "    Returns:\n",
       "    - dict: The JSON response from the API if the request is successful.\n",
       "    - None: If the request fails.\n",
       "    \"\"\"\n",
       "    try:\n",
       "        response = requests.get(url, params=params, headers=headers, timeout=timeout)\n",
       "        response.raise_for_status()\n",
       "\n",
       "        # Optionally validate the JSON structure here if needed\n",
       "        return response.json()\n",
       "    \n",
       "    except requests.exceptions.HTTPError as http_err:\n",
       "        logging.error(f\"HTTP error occurred: {http_err}\")\n",
       "    except requests.exceptions.ConnectionError as conn_err:\n",
       "        logging.error(f\"Connection error occurred: {conn_err}\")\n",
       "    except requests.exceptions.Timeout as timeout_err:\n",
       "        logging.error(f\"Timeout error occurred: {timeout_err}\")\n",
       "    except requests.exceptions.RequestException as req_err:\n",
       "        logging.error(f\"An error occurred: {req_err}\")\n",
       "\n",
       "    return None\n",
       "\n",
       "# Example usage\n",
       "if __name__ == \"__main__\":\n",
       "    url = \"https://api.example.com/data\"\n",
       "    params = {'key1': 'value1', 'key2': 'value2'}\n",
       "    headers = {'Authorization': 'Bearer YOUR_ACCESS_TOKEN'}  # Optional headers\n",
       "\n",
       "    result = get_api_response(url, params=params, headers=headers)\n",
       "    if result is not None:\n",
       "        print(\"API Response:\", result)\n",
       "    else:\n",
       "        print(\"Failed to retrieve data from API.\")\n",
       "```\n",
       "\n",
       "### Key Enhancements:\n",
       "1. **Logging Module**: Switched from printing errors to logging them, allowing for better management of log outputs.\n",
       "2. **Timeout Argument**: Added a `timeout` parameter to prevent indefinite waits.\n",
       "3. **Headers Parameter**: Included support for custom HTTP headers.\n",
       "\n",
       "### Further Considerations:\n",
       "- Optional JSON structure validation can be implemented after fetching the response if your API response format is predictable.\n",
       "- Additional error handling could be considered based on specific API response codes.\n",
       "  \n",
       "Feel free to ask if you’d like to explore further improvements, incorporate specific features, or need help with anything else!"
      ]
     },
     "metadata": {},
     "output_type": "display_data"
    }
   ],
   "source": [
    "# Diaply user response to CRITIQUE\n",
    "display_markdown(essay, raw=True)\n",
    "# Response to critique displayed below..."
   ]
  },
  {
   "cell_type": "markdown",
   "id": "75883af2-f31d-4c24-b1ff-315a0711f9fa",
   "metadata": {},
   "source": [
    "<br>\n",
    "\n",
    "### We can of course make this a Class...\n"
   ]
  }
 ],
 "metadata": {
  "kernelspec": {
   "display_name": "venv",
   "language": "python",
   "name": "python3"
  },
  "language_info": {
   "codemirror_mode": {
    "name": "ipython",
    "version": 3
   },
   "file_extension": ".py",
   "mimetype": "text/x-python",
   "name": "python",
   "nbconvert_exporter": "python",
   "pygments_lexer": "ipython3",
   "version": "3.12.5"
  }
 },
 "nbformat": 4,
 "nbformat_minor": 5
}
